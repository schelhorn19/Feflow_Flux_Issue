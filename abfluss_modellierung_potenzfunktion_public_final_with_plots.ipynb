{
 "cells": [
  {
   "cell_type": "markdown",
   "id": "9018cf0b",
   "metadata": {},
   "source": [
    "# Abflussmodellierung mittels Potenzfunktion\n",
    "Dieses Notebook basiert auf einer nichtlinearen Regression der Form: \n",
    "\\[ Q = a \\cdot (h - h_0)^b \\]\n",
    "zur Modellierung des Abflusses in Abhängigkeit vom hydraulischen Potential.\n",
    "\n",
    "Erstellt am: 2025-05-15"
   ]
  },
  {
   "cell_type": "code",
   "execution_count": 14,
   "id": "f6086bdc",
   "metadata": {
    "vscode": {
     "languageId": "r"
    }
   },
   "outputs": [
    {
     "name": "stderr",
     "output_type": "stream",
     "text": [
      "Warning message:\n",
      "\"Paket 'terra' wurde unter R Version 4.4.3 erstellt\"\n",
      "terra 1.8.42\n",
      "\n",
      "Warning message:\n",
      "\"Paket 'mgcv' wurde unter R Version 4.4.3 erstellt\"\n",
      "Lade nötiges Paket: nlme\n",
      "\n",
      "This is mgcv 1.9-3. For overview type 'help(\"mgcv-package\")'.\n",
      "\n",
      "Warning message:\n",
      "\"Paket 'dplyr' wurde unter R Version 4.4.3 erstellt\"\n",
      "\n",
      "Attache Paket: 'dplyr'\n",
      "\n",
      "\n",
      "Das folgende Objekt ist maskiert 'package:nlme':\n",
      "\n",
      "    collapse\n",
      "\n",
      "\n",
      "Die folgenden Objekte sind maskiert von 'package:terra':\n",
      "\n",
      "    intersect, union\n",
      "\n",
      "\n",
      "Die folgenden Objekte sind maskiert von 'package:stats':\n",
      "\n",
      "    filter, lag\n",
      "\n",
      "\n",
      "Die folgenden Objekte sind maskiert von 'package:base':\n",
      "\n",
      "    intersect, setdiff, setequal, union\n",
      "\n",
      "\n"
     ]
    }
   ],
   "source": [
    "# 📦 Installiere erforderliche Pakete (nur beim ersten Mal nötig)\n",
    "# Entferne die Kommentarzeichen, wenn du in Google Colab arbeitest\n",
    "# install.packages('terra')\n",
    "# install.packages('mgcv')\n",
    "# install.packages('dplyr')\n",
    "\n",
    "library(terra)\n",
    "library(mgcv)\n",
    "library(dplyr)"
   ]
  },
  {
   "cell_type": "code",
   "execution_count": 15,
   "id": "fd3f25dd",
   "metadata": {
    "vscode": {
     "languageId": "r"
    }
   },
   "outputs": [],
   "source": [
    "library(terra)\n",
    "library(mgcv)\n",
    "library(dplyr)"
   ]
  },
  {
   "cell_type": "markdown",
   "id": "1b9983dc",
   "metadata": {},
   "source": [
    "## 📥 Einlesen der PQ-Daten"
   ]
  },
  {
   "cell_type": "code",
   "execution_count": 16,
   "id": "e1812d2e",
   "metadata": {
    "vscode": {
     "languageId": "r"
    }
   },
   "outputs": [
    {
     "data": {
      "text/html": [
       "<style>\n",
       ".list-inline {list-style: none; margin:0; padding: 0}\n",
       ".list-inline>li {display: inline-block}\n",
       ".list-inline>li:not(:last-child)::after {content: \"\\00b7\"; padding: 0 .5ex}\n",
       "</style>\n",
       "<ol class=list-inline><li>'ID'</li><li>'X'</li><li>'Y'</li><li>'Curve'</li></ol>\n"
      ],
      "text/latex": [
       "\\begin{enumerate*}\n",
       "\\item 'ID'\n",
       "\\item 'X'\n",
       "\\item 'Y'\n",
       "\\item 'Curve'\n",
       "\\end{enumerate*}\n"
      ],
      "text/markdown": [
       "1. 'ID'\n",
       "2. 'X'\n",
       "3. 'Y'\n",
       "4. 'Curve'\n",
       "\n",
       "\n"
      ],
      "text/plain": [
       "[1] \"ID\"    \"X\"     \"Y\"     \"Curve\""
      ]
     },
     "metadata": {},
     "output_type": "display_data"
    },
    {
     "data": {
      "text/html": [
       "<table class=\"dataframe\">\n",
       "<caption>A data.frame: 6 × 4</caption>\n",
       "<thead>\n",
       "\t<tr><th></th><th scope=col>ID</th><th scope=col>X</th><th scope=col>Y</th><th scope=col>Curve</th></tr>\n",
       "\t<tr><th></th><th scope=col>&lt;int&gt;</th><th scope=col>&lt;dbl&gt;</th><th scope=col>&lt;dbl&gt;</th><th scope=col>&lt;chr&gt;</th></tr>\n",
       "</thead>\n",
       "<tbody>\n",
       "\t<tr><th scope=row>1</th><td>5</td><td>0.000000000</td><td>  2916.517</td><td>Abstrom_Nodes</td></tr>\n",
       "\t<tr><th scope=row>2</th><td>5</td><td>0.001000000</td><td>-30846.465</td><td>Abstrom_Nodes</td></tr>\n",
       "\t<tr><th scope=row>3</th><td>5</td><td>0.005198558</td><td>-30845.896</td><td>Abstrom_Nodes</td></tr>\n",
       "\t<tr><th scope=row>4</th><td>5</td><td>0.014272820</td><td>-30844.789</td><td>Abstrom_Nodes</td></tr>\n",
       "\t<tr><th scope=row>5</th><td>5</td><td>0.025597308</td><td>-30843.645</td><td>Abstrom_Nodes</td></tr>\n",
       "\t<tr><th scope=row>6</th><td>5</td><td>0.055187057</td><td>-30841.410</td><td>Abstrom_Nodes</td></tr>\n",
       "</tbody>\n",
       "</table>\n"
      ],
      "text/latex": [
       "A data.frame: 6 × 4\n",
       "\\begin{tabular}{r|llll}\n",
       "  & ID & X & Y & Curve\\\\\n",
       "  & <int> & <dbl> & <dbl> & <chr>\\\\\n",
       "\\hline\n",
       "\t1 & 5 & 0.000000000 &   2916.517 & Abstrom\\_Nodes\\\\\n",
       "\t2 & 5 & 0.001000000 & -30846.465 & Abstrom\\_Nodes\\\\\n",
       "\t3 & 5 & 0.005198558 & -30845.896 & Abstrom\\_Nodes\\\\\n",
       "\t4 & 5 & 0.014272820 & -30844.789 & Abstrom\\_Nodes\\\\\n",
       "\t5 & 5 & 0.025597308 & -30843.645 & Abstrom\\_Nodes\\\\\n",
       "\t6 & 5 & 0.055187057 & -30841.410 & Abstrom\\_Nodes\\\\\n",
       "\\end{tabular}\n"
      ],
      "text/markdown": [
       "\n",
       "A data.frame: 6 × 4\n",
       "\n",
       "| <!--/--> | ID &lt;int&gt; | X &lt;dbl&gt; | Y &lt;dbl&gt; | Curve &lt;chr&gt; |\n",
       "|---|---|---|---|---|\n",
       "| 1 | 5 | 0.000000000 |   2916.517 | Abstrom_Nodes |\n",
       "| 2 | 5 | 0.001000000 | -30846.465 | Abstrom_Nodes |\n",
       "| 3 | 5 | 0.005198558 | -30845.896 | Abstrom_Nodes |\n",
       "| 4 | 5 | 0.014272820 | -30844.789 | Abstrom_Nodes |\n",
       "| 5 | 5 | 0.025597308 | -30843.645 | Abstrom_Nodes |\n",
       "| 6 | 5 | 0.055187057 | -30841.410 | Abstrom_Nodes |\n",
       "\n"
      ],
      "text/plain": [
       "  ID X           Y          Curve        \n",
       "1 5  0.000000000   2916.517 Abstrom_Nodes\n",
       "2 5  0.001000000 -30846.465 Abstrom_Nodes\n",
       "3 5  0.005198558 -30845.896 Abstrom_Nodes\n",
       "4 5  0.014272820 -30844.789 Abstrom_Nodes\n",
       "5 5  0.025597308 -30843.645 Abstrom_Nodes\n",
       "6 5  0.055187057 -30841.410 Abstrom_Nodes"
      ]
     },
     "metadata": {},
     "output_type": "display_data"
    },
    {
     "name": "stdout",
     "output_type": "stream",
     "text": [
      "[1] \"✅\"\n"
     ]
    },
    {
     "data": {
      "image/png": "[encoded data removed]",
      "text/plain": [
       "Plot with title \"Nichtlineare Regression: Q ~ a*(h - h0)^b\""
      ]
     },
     "metadata": {
      "image/png": {
       "height": 420,
       "width": 420
      }
     },
     "output_type": "display_data"
    }
   ],
   "source": [
    "df_pq <- read.csv(\"./abstrom_aggregiert_subdomain_durchfluss.dat\", sep=\";\")\n",
    "\n",
    "abfluss_history_charting <- read.csv(\"./Budget_History_charting_abstrom_flux.dat\", sep=\"\")\n",
    "names(abfluss_history_charting)\n",
    "head( abfluss_history_charting)\n",
    "plot(df_pq$h, df_pq$Q, pch = 19, col = \"blue\",\n",
    "     main = \"Nichtlineare Regression: Q ~ a*(h - h0)^b\", xlab = \"FINIT_mean (h)\", ylab = \"Q\")\n",
    "print('✅')"
   ]
  },
  {
   "cell_type": "markdown",
   "id": "56da3fa1",
   "metadata": {},
   "source": [
    "## 📈 Schätzung Startwerte via Log-Log"
   ]
  },
  {
   "cell_type": "code",
   "execution_count": 17,
   "id": "aaf09357",
   "metadata": {
    "vscode": {
     "languageId": "r"
    }
   },
   "outputs": [],
   "source": [
    "h0_start <- min(df_pq$h, na.rm = TRUE) - 0.01\n",
    "df_valid <- subset(df_pq, h > (h0_start + 0.01) & Q > 0)\n",
    "log_model <- lm(log(Q) ~ log(h - h0_start), data = df_valid)\n",
    "b_start <- as.numeric(coef(log_model)[2])\n",
    "a_start <- exp(as.numeric(coef(log_model)[1]))"
   ]
  },
  {
   "cell_type": "markdown",
   "id": "a01d6875",
   "metadata": {},
   "source": [
    "## 🔁 Nichtlineare Regression"
   ]
  },
  {
   "cell_type": "code",
   "execution_count": 18,
   "id": "a5d06c7b",
   "metadata": {
    "vscode": {
     "languageId": "r"
    }
   },
   "outputs": [
    {
     "data": {
      "text/plain": [
       "\n",
       "Formula: Q ~ a * (h - h0)^b\n",
       "\n",
       "Parameters:\n",
       "    Estimate Std. Error t value Pr(>|t|)    \n",
       "a  2.971e+04  6.054e+03   4.907 1.31e-06 ***\n",
       "h0 1.907e+02  4.536e-01 420.389  < 2e-16 ***\n",
       "b  4.425e-01  1.889e-01   2.343   0.0196 *  \n",
       "---\n",
       "Signif. codes:  0 '***' 0.001 '**' 0.01 '*' 0.05 '.' 0.1 ' ' 1\n",
       "\n",
       "Residual standard error: 3451 on 429 degrees of freedom\n",
       "\n",
       "Algorithm \"port\", convergence message: both X-convergence and relative convergence (5)\n"
      ]
     },
     "metadata": {},
     "output_type": "display_data"
    }
   ],
   "source": [
    "model_nls <- nls(Q ~ a * (h - h0)^b,\n",
    "                 data = df_valid,\n",
    "                 start = list(a = a_start, h0 = h0_start, b = b_start),\n",
    "                 algorithm = \"port\",\n",
    "                 lower = c(a = 0, h0 = h0_start - 0.5, b = 0.1),\n",
    "                 upper = c(a = 1e6, h0 = h0_start + 0.5, b = 5),\n",
    "                 control = list(maxiter = 1000, warnOnly = TRUE))\n",
    "summary(model_nls)"
   ]
  },
  {
   "cell_type": "code",
   "execution_count": 19,
   "id": "7a359304",
   "metadata": {
    "vscode": {
     "languageId": "r"
    }
   },
   "outputs": [
    {
     "name": "stderr",
     "output_type": "stream",
     "text": [
      "Warning message in df_pq$Q - preds:\n",
      "\"Länge des längeren Objektes\n",
      " \t ist kein Vielfaches der Länge des kürzeren Objektes\"\n"
     ]
    },
    {
     "name": "stdout",
     "output_type": "stream",
     "text": [
      "[1] \"✅\"\n"
     ]
    },
    {
     "data": {
      "image/png": "[encoded data removed]",
      "text/plain": [
       "Plot with title \"Nichtlineare Regression: Q ~ a*(h - h0)^b\""
      ]
     },
     "metadata": {
      "image/png": {
       "height": 420,
       "width": 420
      }
     },
     "output_type": "display_data"
    }
   ],
   "source": [
    "preds <- predict(model_nls)\n",
    "rmse <- sqrt(mean((df_pq$Q - preds)^2))\n",
    "plot(df_pq$h, df_pq$Q, pch = 19, col = \"blue\",\n",
    "     main = \"Nichtlineare Regression: Q ~ a*(h - h0)^b\", xlab = \"FINIT_mean (h)\", ylab = \"Q\")\n",
    "lines(sort(df_valid$h), predict(model_nls, newdata = data.frame(h = sort(df_valid$h))), col = \"red\", lwd = 2)\n",
    "print('✅')"
   ]
  },
  {
   "cell_type": "markdown",
   "id": "b688a083",
   "metadata": {},
   "source": [
    "## 📌 Koeffizienten und Bereichsauswertung"
   ]
  },
  {
   "cell_type": "code",
   "execution_count": 20,
   "id": "ae3370b9",
   "metadata": {
    "vscode": {
     "languageId": "r"
    }
   },
   "outputs": [
    {
     "data": {
      "text/html": [
       "<style>\n",
       ".dl-inline {width: auto; margin:0; padding: 0}\n",
       ".dl-inline>dt, .dl-inline>dd {float: none; width: auto; display: inline-block}\n",
       ".dl-inline>dt::after {content: \":\\0020\"; padding-right: .5ex}\n",
       ".dl-inline>dt:not(:first-of-type) {padding-left: .5ex}\n",
       "</style><dl class=dl-inline><dt>a</dt><dd>29706.7883218226</dd><dt>h0</dt><dd>190.698961275714</dd><dt>b</dt><dd>0.442475590928095</dd></dl>\n"
      ],
      "text/latex": [
       "\\begin{description*}\n",
       "\\item[a] 29706.7883218226\n",
       "\\item[h0] 190.698961275714\n",
       "\\item[b] 0.442475590928095\n",
       "\\end{description*}\n"
      ],
      "text/markdown": [
       "a\n",
       ":   29706.7883218226h0\n",
       ":   190.698961275714b\n",
       ":   0.442475590928095\n",
       "\n"
      ],
      "text/plain": [
       "           a           h0            b \n",
       "2.970679e+04 1.906990e+02 4.424756e-01 "
      ]
     },
     "metadata": {},
     "output_type": "display_data"
    },
    {
     "data": {
      "text/html": [
       "0.0408089711357744"
      ],
      "text/latex": [
       "0.0408089711357744"
      ],
      "text/markdown": [
       "0.0408089711357744"
      ],
      "text/plain": [
       "[1] 0.04080897"
      ]
     },
     "metadata": {},
     "output_type": "display_data"
    },
    {
     "data": {
      "text/html": [
       "0.100367943675547"
      ],
      "text/latex": [
       "0.100367943675547"
      ],
      "text/markdown": [
       "0.100367943675547"
      ],
      "text/plain": [
       "[1] 0.1003679"
      ]
     },
     "metadata": {},
     "output_type": "display_data"
    }
   ],
   "source": [
    "coef(model_nls)\n",
    "a <- coef(model_nls)[[\"a\"]]\n",
    "h0 <- coef(model_nls)[[\"h0\"]]\n",
    "b <- coef(model_nls)[[\"b\"]]\n",
    "\n",
    "range_head = c(191, 193)\n",
    "q_result_min <- a*( range_head[1]- h0 )^b\n",
    "q_result_max <- a*( range_head[2]- h0 )^b\n",
    "\n",
    "area = 427960\n",
    "q_result_min / area\n",
    "q_result_max / area"
   ]
  },
  {
   "cell_type": "markdown",
   "id": "9a3ad9b7",
   "metadata": {},
   "source": [
    "## 📦 Verarbeitung der Shapefiles"
   ]
  },
  {
   "cell_type": "code",
   "execution_count": 21,
   "id": "a06d0378",
   "metadata": {
    "vscode": {
     "languageId": "r"
    }
   },
   "outputs": [
    {
     "name": "stderr",
     "output_type": "stream",
     "text": [
      "Warning message:\n",
      "\"[crs<-] Z coordinates ignored\"\n"
     ]
    }
   ],
   "source": [
    "abstrom <- terra::vect(\"./V11_Abstrom_Nodes_Hyhead_Darcy_Flux_Rate_budget.shp\", crs = \"+init=epsg:31467\")\n",
    "abstrom <- data.frame(abstrom)\n",
    "aggregiert_df <- abstrom %>%\n",
    "  group_by(TIME) %>%\n",
    "  summarise(\n",
    "    FINIT_mean = mean(FINIT, na.rm = TRUE),\n",
    "    BDRFLOW_sum = -sum(BDRFLOW, na.rm = TRUE),\n",
    "    VINIT_mean = mean(VINIT, na.rm = TRUE)\n",
    "  )"
   ]
  },
  {
   "cell_type": "code",
   "execution_count": 22,
   "id": "ded9a6a3",
   "metadata": {
    "vscode": {
     "languageId": "r"
    }
   },
   "outputs": [
    {
     "name": "stderr",
     "output_type": "stream",
     "text": [
      "Warning message:\n",
      "\"[crs<-] Z coordinates ignored\"\n"
     ]
    }
   ],
   "source": [
    "abstrom_result <- terra::vect(\"./V11_Abstrom_Nodes_Hyhead_Darcy_Flux_Rate_budget_period_expression_editor.shp\", crs = \"+init=epsg:31467\")\n",
    "abstrom_result <- data.frame(abstrom_result)\n",
    "aggregiert_df_result <- abstrom_result %>%\n",
    "  group_by(TIME) %>%\n",
    "  summarise(\n",
    "    FINIT_mean = mean(FINIT, na.rm = TRUE),\n",
    "    BDRFLOW_sum = -sum(BDRFLOW, na.rm = TRUE),\n",
    "    VINIT_mean = mean(VINIT, na.rm = TRUE)\n",
    "  )"
   ]
  },
  {
   "cell_type": "markdown",
   "id": "5953870d",
   "metadata": {},
   "source": [
    "## 📊 Zeitliche Entwicklung"
   ]
  },
  {
   "cell_type": "code",
   "execution_count": null,
   "id": "3cee3dcd",
   "metadata": {
    "vscode": {
     "languageId": "r"
    }
   },
   "outputs": [
    {
     "data": {
      "image/png": "[encoded data removed]",
      "text/plain": [
       "Plot with title \"Hyhead\""
      ]
     },
     "metadata": {
      "image/png": {
       "height": 420,
       "width": 420
      }
     },
     "output_type": "display_data"
    },
    {
     "data": {
      "image/png": "[encoded data removed]",
      "text/plain": [
       "Plot with title \"Geschwindigkeit\""
      ]
     },
     "metadata": {
      "image/png": {
       "height": 420,
       "width": 420
      }
     },
     "output_type": "display_data"
    },
    {
     "name": "stdout",
     "output_type": "stream",
     "text": [
      "[1] \"✅\"\n"
     ]
    },
    {
     "data": {
      "image/png": "[encoded data removed]",
      "text/plain": [
       "Plot with title \"Abfluss\""
      ]
     },
     "metadata": {
      "image/png": {
       "height": 420,
       "width": 420
      }
     },
     "output_type": "display_data"
    }
   ],
   "source": [
    "# Hydraulic head\n",
    "plot(aggregiert_df$TIME, aggregiert_df$FINIT_mean, type=\"l\", col=\"purple\", main = \"Hyhead\")\n",
    "lines(aggregiert_df_result$TIME, aggregiert_df_result$FINIT_mean, col=\"cyan\")\n",
    "\n",
    "# Geschwindigkeit\n",
    "plot(aggregiert_df$TIME, aggregiert_df$VINIT_mean, type=\"l\", col=\"purple\", main = \"Geschwindigkeit\")\n",
    "lines(aggregiert_df_result$TIME, aggregiert_df_result$VINIT_mean, col=\"cyan\")\n",
    "\n",
    "# Abfluss\n",
    "plot(aggregiert_df$TIME, aggregiert_df$BDRFLOW_sum, type=\"l\", col=\"purple\", main = \"Abfluss\")\n",
    "lines(abfluss_history_charting$X,-abfluss_history_charting$Y, col=\"blue\", lwd = 3 )\n",
    "lines(aggregiert_df_result$TIME, aggregiert_df_result$BDRFLOW_sum, col=\"cyan\", lty= 2, lwd = 2)\n",
    "\n",
    "\n",
    "# Referenzlinien\n",
    "abline(h = q_result_min, col=\"red\")\n",
    "abline(h = q_result_max, col=\"red\")\n",
    "print('✅')"
   ]
  }
 ],
 "metadata": {
  "kernelspec": {
   "display_name": "R",
   "language": "R",
   "name": "ir"
  },
  "language_info": {
   "codemirror_mode": "r",
   "file_extension": ".r",
   "mimetype": "text/x-r-source",
   "name": "R",
   "pygments_lexer": "r",
   "version": "4.4.1"
  }
 },
 "nbformat": 4,
 "nbformat_minor": 5
}

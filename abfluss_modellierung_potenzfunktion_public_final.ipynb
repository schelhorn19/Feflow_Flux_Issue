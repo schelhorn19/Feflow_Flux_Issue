{
 "cells": [
  {
   "cell_type": "markdown",
   "id": "9018cf0b",
   "metadata": {},
   "source": [
    "# Abflussmodellierung mittels Potenzfunktion\n",
    "Dieses Notebook basiert auf einer nichtlinearen Regression der Form: \n",
    "\\[ Q = a \\cdot (h - h_0)^b \\]\n",
    "zur Modellierung des Abflusses in Abhängigkeit vom hydraulischen Potential.\n",
    "\n",
    "Erstellt am: 2025-05-15"
   ]
  },
  {
   "cell_type": "code",
   "execution_count": null,
   "id": "f6086bdc",
   "metadata": {},
   "outputs": [],
   "source": [
    "# 📦 Installiere erforderliche Pakete (nur beim ersten Mal nötig)\n",
    "# Entferne die Kommentarzeichen, wenn du in Google Colab arbeitest\n",
    "# install.packages('terra')\n",
    "# install.packages('mgcv')\n",
    "# install.packages('dplyr')\n",
    "\n",
    "library(terra)\n",
    "library(mgcv)\n",
    "library(dplyr)"
   ]
  },
  {
   "cell_type": "code",
   "execution_count": null,
   "id": "fd3f25dd",
   "metadata": {},
   "outputs": [],
   "source": [
    "library(terra)\n",
    "library(mgcv)\n",
    "library(dplyr)"
   ]
  },
  {
   "cell_type": "markdown",
   "id": "1b9983dc",
   "metadata": {},
   "source": [
    "## 📥 Einlesen der PQ-Daten"
   ]
  },
  {
   "cell_type": "code",
   "execution_count": null,
   "id": "e1812d2e",
   "metadata": {},
   "outputs": [],
   "source": [
    "df_pq <- read.csv(\"./abstrom_aggregiert_subdomain_durchfluss.dat\", sep=\";\")\n",
    "\n",
    "plot(df_pq$h, df_pq$Q, pch = 19, col = \"blue\",\n",
    "     main = \"Nichtlineare Regression: Q ~ a*(h - h0)^b\", xlab = \"FINIT_mean (h)\", ylab = \"Q\")\n",
    "print('✅')"
   ]
  },
  {
   "cell_type": "markdown",
   "id": "56da3fa1",
   "metadata": {},
   "source": [
    "## 📈 Schätzung Startwerte via Log-Log"
   ]
  },
  {
   "cell_type": "code",
   "execution_count": null,
   "id": "aaf09357",
   "metadata": {},
   "outputs": [],
   "source": [
    "h0_start <- min(df_pq$h, na.rm = TRUE) - 0.01\n",
    "df_valid <- subset(df_pq, h > (h0_start + 0.01) & Q > 0)\n",
    "log_model <- lm(log(Q) ~ log(h - h0_start), data = df_valid)\n",
    "b_start <- as.numeric(coef(log_model)[2])\n",
    "a_start <- exp(as.numeric(coef(log_model)[1]))"
   ]
  },
  {
   "cell_type": "markdown",
   "id": "a01d6875",
   "metadata": {},
   "source": [
    "## 🔁 Nichtlineare Regression"
   ]
  },
  {
   "cell_type": "code",
   "execution_count": null,
   "id": "a5d06c7b",
   "metadata": {},
   "outputs": [],
   "source": [
    "model_nls <- nls(Q ~ a * (h - h0)^b,\n",
    "                 data = df_valid,\n",
    "                 start = list(a = a_start, h0 = h0_start, b = b_start),\n",
    "                 algorithm = \"port\",\n",
    "                 lower = c(a = 0, h0 = h0_start - 0.5, b = 0.1),\n",
    "                 upper = c(a = 1e6, h0 = h0_start + 0.5, b = 5),\n",
    "                 control = list(maxiter = 1000, warnOnly = TRUE))\n",
    "summary(model_nls)"
   ]
  },
  {
   "cell_type": "code",
   "execution_count": null,
   "id": "7a359304",
   "metadata": {},
   "outputs": [],
   "source": [
    "preds <- predict(model_nls)\n",
    "rmse <- sqrt(mean((df_pq$Q - preds)^2))\n",
    "plot(df_pq$h, df_pq$Q, pch = 19, col = \"blue\",\n",
    "     main = \"Nichtlineare Regression: Q ~ a*(h - h0)^b\", xlab = \"FINIT_mean (h)\", ylab = \"Q\")\n",
    "lines(sort(df_valid$h), predict(model_nls, newdata = data.frame(h = sort(df_valid$h))), col = \"red\", lwd = 2)\n",
    "print('✅')"
   ]
  },
  {
   "cell_type": "markdown",
   "id": "b688a083",
   "metadata": {},
   "source": [
    "## 📌 Koeffizienten und Bereichsauswertung"
   ]
  },
  {
   "cell_type": "code",
   "execution_count": null,
   "id": "ae3370b9",
   "metadata": {},
   "outputs": [],
   "source": [
    "coef(model_nls)\n",
    "a <- coef(model_nls)[[\"a\"]]\n",
    "h0 <- coef(model_nls)[[\"h0\"]]\n",
    "b <- coef(model_nls)[[\"b\"]]\n",
    "\n",
    "range_head = c(191, 193)\n",
    "q_result_min <- a*( range_head[1]- h0 )^b\n",
    "q_result_max <- a*( range_head[2]- h0 )^b\n",
    "\n",
    "area = 427960\n",
    "q_result_min / area\n",
    "q_result_max / area"
   ]
  },
  {
   "cell_type": "markdown",
   "id": "9a3ad9b7",
   "metadata": {},
   "source": [
    "## 📦 Verarbeitung der Shapefiles"
   ]
  },
  {
   "cell_type": "code",
   "execution_count": null,
   "id": "a06d0378",
   "metadata": {},
   "outputs": [],
   "source": [
    "abstrom <- terra::vect(\"./V11_Abstrom_Nodes_Hyhead_Darcy_Flux_Rate_budget.shp\", crs = \"+init=epsg:31467\")\n",
    "abstrom <- data.frame(abstrom)\n",
    "aggregiert_df <- abstrom %>%\n",
    "  group_by(TIME) %>%\n",
    "  summarise(\n",
    "    FINIT_mean = mean(FINIT, na.rm = TRUE),\n",
    "    BDRFLOW_sum = -sum(BDRFLOW, na.rm = TRUE),\n",
    "    VINIT_mean = mean(VINIT, na.rm = TRUE)\n",
    "  )"
   ]
  },
  {
   "cell_type": "code",
   "execution_count": null,
   "id": "ded9a6a3",
   "metadata": {},
   "outputs": [],
   "source": [
    "abstrom_result <- terra::vect(\"./V11_Abstrom_Nodes_Hyhead_Darcy_Flux_Rate_budget_period_expression_editor.shp\", crs = \"+init=epsg:31467\")\n",
    "abstrom_result <- data.frame(abstrom_result)\n",
    "aggregiert_df_result <- abstrom_result %>%\n",
    "  group_by(TIME) %>%\n",
    "  summarise(\n",
    "    FINIT_mean = mean(FINIT, na.rm = TRUE),\n",
    "    BDRFLOW_sum = -sum(BDRFLOW, na.rm = TRUE),\n",
    "    VINIT_mean = mean(VINIT, na.rm = TRUE)\n",
    "  )"
   ]
  },
  {
   "cell_type": "markdown",
   "id": "5953870d",
   "metadata": {},
   "source": [
    "## 📊 Zeitliche Entwicklung"
   ]
  },
  {
   "cell_type": "code",
   "execution_count": null,
   "id": "3cee3dcd",
   "metadata": {},
   "outputs": [],
   "source": [
    "# Hydraulic head \n",
    "plot(aggregiert_df$TIME, aggregiert_df$FINIT_mean, type=\"l\", col=\"purple\", main = \"Hyhead\") \n",
    "lines(aggregiert_df_result$TIME, aggregiert_df_result$FINIT_mean, col=\"cyan\")\n",
    "\n",
    "# Geschwindigkeit \n",
    "plot(aggregiert_df$TIME, aggregiert_df$VINIT_mean, type=\"l\", col=\"purple\", main = \"Geschwindigkeit\") \n",
    "lines(aggregiert_df_result$TIME, aggregiert_df_result$VINIT_mean, col=\"cyan\")\n",
    "\n",
    "# Abfluss \n",
    "plot(aggregiert_df$TIME, aggregiert_df$BDRFLOW_sum, type=\"l\", col=\"purple\", main = \"Abfluss\") \n",
    "lines(aggregiert_df_result$TIME, aggregiert_df_result$BDRFLOW_sum, col=\"cyan\")\n",
    "\n",
    "# Referenzlinien\n",
    "abline(h = q_result_min, col=\"red\")\n",
    "abline(h = q_result_max, col=\"red\")\n",
    "print('✅')"
   ]
  }
 ],
 "metadata": {},
 "nbformat": 4,
 "nbformat_minor": 5
}
